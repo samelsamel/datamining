{
 "cells": [
  {
   "cell_type": "markdown",
   "metadata": {},
   "source": [
    "<h2>Foursquare (JSON to CSV ):</h2> to extract Foursquare reviews we decided to use the <a href= https://foursquare.com/developers/explore>Foursquare API </a> that gives us a JSON file. Here we convert  this JSON file into a csv containing the needed data."
   ]
  },
  {
   "cell_type": "code",
   "execution_count": null,
   "metadata": {
    "collapsed": true
   },
   "outputs": [],
   "source": [
    "import json \n",
    "import csv \n",
    "from datetime import datetime\n",
    "# we open the json file\n",
    "file = open ( \"foursquare.json\")\n",
    "# create the outputfile\n",
    "output_file = open (\"smug's_fs3.csv\",'w',newline='',\n",
    "      encoding='utf-8')\n",
    "output = csv.writer(output_file, delimiter=',',quotechar='\"') \n",
    "#load the json file\n",
    "fq_json = json.load(file)\n",
    "\n",
    "for item in fq_json['response']['tips']['items']:\n",
    "    #go through the json file and extract the data\n",
    "    #note: the date provided by Foursquare's API is in the unix time format and so we converted into a month, day, year format\n",
    "    date = int ( item['createdAt'])\n",
    "    if date > 0 :\n",
    "        output.writerow([item['text'],'foursquare tip',item['canonicalUrl'],datetime.fromtimestamp(date).strftime('%%B %d, %Y')])\n",
    "output_file.close () "
   ]
  }
 ],
 "metadata": {
  "anaconda-cloud": {},
  "kernelspec": {
   "display_name": "Python [default]",
   "language": "python",
   "name": "python3"
  },
  "language_info": {
   "codemirror_mode": {
    "name": "ipython",
    "version": 3
   },
   "file_extension": ".py",
   "mimetype": "text/x-python",
   "name": "python",
   "nbconvert_exporter": "python",
   "pygments_lexer": "ipython3",
   "version": "3.5.2"
  }
 },
 "nbformat": 4,
 "nbformat_minor": 2
}
